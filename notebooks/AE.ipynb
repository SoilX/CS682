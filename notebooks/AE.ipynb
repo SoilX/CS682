{
 "cells": [
  {
   "cell_type": "code",
   "execution_count": 30,
   "metadata": {},
   "outputs": [
    {
     "name": "stdout",
     "output_type": "stream",
     "text": [
      "Downloading...\n",
      "From: https://drive.google.com/uc?id=1--AIxkesHEW-VIBveNVJpYWdsKk3gFbI\n",
      "To: /home/dylan/ramdisk/cropped.zip\n",
      "619MB [00:06, 95.6MB/s] \n"
     ]
    }
   ],
   "source": [
    "# !sudo pip3 install gdown\n",
    "!cd ramdisk && gdown \"https://drive.google.com/uc?id=1--AIxkesHEW-VIBveNVJpYWdsKk3gFbI\"\n",
    "#!wget \"https://doc-0g-90-docs.googleusercontent.com/docs/securesc/b5le5ac2gbddk9d214ag7igpnum314v8/lf4o5ds7302adeg5b6l1snq34kg7gtm5/1576706400000/05082288337558079316/05082288337558079316/1--AIxkesHEW-VIBveNVJpYWdsKk3gFbI?e=download&authuser=0&nonce=onc3f173h31pa&user=05082288337558079316&hash=g5mcs3pp99lf8nj84p0rglqfsns436c9\""
   ]
  },
  {
   "cell_type": "code",
   "execution_count": 0,
   "metadata": {
    "colab": {},
    "colab_type": "code",
    "id": "2xY0BV3OblK2"
   },
   "outputs": [],
   "source": [
    "from google.colab import drive\n",
    "drive.mount('/content/drive', force_remount=True)\n",
    "\n",
    "!unzip /content/drive/My\\ Drive/traffic_images.zip"
   ]
  },
  {
   "cell_type": "code",
   "execution_count": 49,
   "metadata": {
    "colab": {},
    "colab_type": "code",
    "id": "wRGCJ2t0gusw"
   },
   "outputs": [],
   "source": [
    "import os\n",
    "import numpy as np\n",
    "import PIL.Image as Image\n",
    "import torch\n",
    "import torch.nn as nn\n",
    "import torchvision\n",
    "import torch.nn.functional as F\n",
    "from torchvision import transforms\n",
    "from torch.utils.data import Dataset, DataLoader\n",
    "import torch.nn.functional as functional\n",
    "import matplotlib.pyplot as plt\n",
    "\n",
    "DATA_PATH = \"ramdisk/disk\"  # path to cropped images\n",
    "TEST_PATH = \"ramdisk/spliced\"  # path to cropped images\n",
    "HEIGHT = 2710\n",
    "WIDTH = 3384\n",
    "RESIZE_H = 80\n",
    "RESIZE_W = 120\n",
    "batch_size=512"
   ]
  },
  {
   "cell_type": "code",
   "execution_count": 50,
   "metadata": {},
   "outputs": [],
   "source": [
    "test_set = MyDataset(TEST_PATH, transform=transform)\n",
    "test_loader = torch.utils.data.DataLoader(test_set, shuffle=True, batch_size=batch_size)"
   ]
  },
  {
   "cell_type": "code",
   "execution_count": 32,
   "metadata": {
    "colab": {},
    "colab_type": "code",
    "id": "8cWNBDEix03_"
   },
   "outputs": [],
   "source": [
    "class MyDataset(Dataset):\n",
    "    def __init__(self, input_dir, transform=None):\n",
    "        self.transform = transform\n",
    "        self.DIR = input_dir\n",
    "        self.list_files = [name for name in os.listdir(self.DIR)]\n",
    "\n",
    "    def __len__(self):\n",
    "        return len([name for name in os.listdir(self.DIR) if os.path.isfile(os.path.join(self.DIR, name))])\n",
    "\n",
    "    def __getitem__(self, idx):\n",
    "        img_path = os.path.join(self.DIR, self.list_files[idx])\n",
    "        img = Image.open(img_path)\n",
    "        if self.transform is not None:\n",
    "            img = self.transform(img)\n",
    "        return img, self.list_files[idx]  # return image and its name (ID)\n",
    "\n",
    "transform = torchvision.transforms.Compose(\n",
    "                    [torchvision.transforms.Grayscale(),\n",
    "                    torchvision.transforms.Resize((RESIZE_H, RESIZE_W)),\n",
    "                    torchvision.transforms.RandomHorizontalFlip(),\n",
    "                    torchvision.transforms.ToTensor()])\n",
    "\n",
    "train_set = MyDataset(DATA_PATH, transform=transform)\n",
    "train_loader = torch.utils.data.DataLoader(train_set, shuffle=True, batch_size=batch_size)"
   ]
  },
  {
   "cell_type": "code",
   "execution_count": 33,
   "metadata": {
    "colab": {},
    "colab_type": "code",
    "id": "_VJH3JgVMhxP"
   },
   "outputs": [],
   "source": [
    "class AutoEncoder(torch.nn.Module):\n",
    "  def __init__(self):\n",
    "    super(AutoEncoder, self).__init__()\n",
    "    self.intermediate = 256\n",
    "\n",
    "    # Apply convolutions to reduce into a more tractable form.\n",
    "    self.conv_spatial1 = torch.nn.Sequential(\n",
    "      torch.nn.Conv2d(1, 32, kernel_size=6, stride=2, padding=0),\n",
    "      torch.nn.LeakyReLU(),\n",
    "      torch.nn.Conv2d(32, 16, kernel_size=7, stride=1, padding=0),\n",
    "      torch.nn.LeakyReLU(),\n",
    "      torch.nn.Conv2d(16, 3, kernel_size=7, stride=1, padding=0),\n",
    "      torch.nn.LeakyReLU()\n",
    "    )\n",
    "    self.out = 3 * 26 * 46\n",
    "\n",
    "    # Encode our image into a single vector\n",
    "    self._encode = torch.nn.Sequential(\n",
    "        torch.nn.Linear(self.out, self.intermediate),\n",
    "        torch.nn.LeakyReLU(),\n",
    "        torch.nn.Linear(self.intermediate, self.intermediate//2),\n",
    "        torch.nn.LeakyReLU(),\n",
    "        torch.nn.Linear(self.intermediate//2, self.intermediate//4),\n",
    "        torch.nn.LeakyReLU(),\n",
    "        torch.nn.Linear(self.intermediate//4, self.intermediate//8),\n",
    "        torch.nn.LeakyReLU(),\n",
    "        torch.nn.BatchNorm1d(self.intermediate//8)\n",
    "    )\n",
    "\n",
    "    # Decode our vector into\n",
    "    self._decode = torch.nn.Sequential(\n",
    "        torch.nn.Linear(self.intermediate//8, self.intermediate//4),\n",
    "        torch.nn.LeakyReLU(), \n",
    "        torch.nn.Linear(self.intermediate//4, self.intermediate//2),\n",
    "        torch.nn.LeakyReLU(),\n",
    "        torch.nn.Linear(self.intermediate//2, self.intermediate),\n",
    "        torch.nn.LeakyReLU(),\n",
    "        torch.nn.Linear(self.intermediate, self.out),\n",
    "        torch.nn.BatchNorm1d(self.out)\n",
    "    )\n",
    "\n",
    "    # Provide another convolution to our data.\n",
    "    self.conv_spatial2 = torch.nn.Sequential(\n",
    "      torch.nn.ConvTranspose2d(3, 16, kernel_size=7, stride=1, padding=0),\n",
    "      torch.nn.LeakyReLU(),\n",
    "      torch.nn.ConvTranspose2d(16, 32, kernel_size=7, stride=1, padding=0),\n",
    "      torch.nn.LeakyReLU(),\n",
    "      torch.nn.ConvTranspose2d(32, 1, kernel_size=6, stride=2, padding=0),\n",
    "      torch.nn.LeakyReLU()\n",
    "    )\n",
    "\n",
    "  def encode(self, x):\n",
    "    x = self.conv_spatial1(x)\n",
    "    x = x.view(-1, self.out)\n",
    "    return self._encode(x)\n",
    "\n",
    "  def decode(self, z):\n",
    "    z = self._decode(z)\n",
    "    z = z.view(-1, 3, 26, 46)\n",
    "    z = self.conv_spatial2(z)\n",
    "    return z.view(-1, 1, 80, 120)\n",
    "\n",
    "  def forward(self, x):\n",
    "    return self.decode(self.encode(x))"
   ]
  },
  {
   "cell_type": "code",
   "execution_count": 34,
   "metadata": {
    "colab": {},
    "colab_type": "code",
    "id": "iQJ9GwMEpEJb"
   },
   "outputs": [],
   "source": [
    "class AutoEncoder2(torch.nn.Module):\n",
    "  def __init__(self):\n",
    "    super(AutoEncoder2, self).__init__()\n",
    "    self.intermediate = 256\n",
    "\n",
    "    # Encode our image into a single vector\n",
    "    self._encode = torch.nn.Sequential(\n",
    "        torch.nn.Linear(80*120, 4096),\n",
    "        torch.nn.BatchNorm1d(4096),\n",
    "        torch.nn.LeakyReLU(),\n",
    "        torch.nn.Linear(4096, 2048),\n",
    "        torch.nn.BatchNorm1d(2048),\n",
    "        torch.nn.LeakyReLU(),\n",
    "        torch.nn.Linear(2048, 1024)\n",
    "        # torch.nn.BatchNorm1d(1024),\n",
    "        # torch.nn.LeakyReLU(),\n",
    "        # torch.nn.Linear(1024, 512)\n",
    "    )\n",
    "\n",
    "    # Decode our vector into\n",
    "    self._decode = torch.nn.Sequential(\n",
    "        # torch.nn.Linear(512, 1024),\n",
    "        # torch.nn.BatchNorm1d(1024),\n",
    "        # torch.nn.LeakyReLU(),\n",
    "        torch.nn.Linear(1024, 2048),\n",
    "        torch.nn.BatchNorm1d(2048),\n",
    "        torch.nn.LeakyReLU(),\n",
    "        torch.nn.Linear(2048, 4096),\n",
    "        torch.nn.BatchNorm1d(4096),\n",
    "        torch.nn.LeakyReLU(),\n",
    "        torch.nn.Linear(4096, 80*120)\n",
    "    )\n",
    "\n",
    "  def encode(self, x):\n",
    "    x = x.view(-1, 80*120)\n",
    "    return self._encode(x)\n",
    "\n",
    "  def decode(self, z):\n",
    "    z = self._decode(z)\n",
    "    return z.view(-1, 1, 80, 120)\n",
    "\n",
    "  def forward(self, x):\n",
    "    return self.decode(self.encode(x))"
   ]
  },
  {
   "cell_type": "code",
   "execution_count": 5,
   "metadata": {
    "cellView": "both",
    "colab": {},
    "colab_type": "code",
    "id": "N2z-GpGfMlJC"
   },
   "outputs": [],
   "source": [
    "def _run(net, epochs, learning_rate, optimizer, scheduler, debug, loss, augmentations,\n",
    "         train_losses, train_accuracy, eval_losses, eval_accuracy, loader, batch_size=batch_size):\n",
    "  for epoch in range(epochs):\n",
    "\n",
    "    epoch_loss = 0\n",
    "    total = 0\n",
    "    for i, data in enumerate(loader, 0):\n",
    "\n",
    "      inputs, _ = data\n",
    "      inputs *= 255.0\n",
    "      labels = inputs\n",
    "      optimizer.zero_grad()\n",
    "\n",
    "      inputs = torch.autograd.Variable(inputs, requires_grad=False).cuda()\n",
    "      labels = torch.autograd.Variable(labels, requires_grad=False).cuda()\n",
    "\n",
    "      outputs = net(inputs)\n",
    "      loss_size = loss(outputs, labels)\n",
    "      loss_size.backward()\n",
    "      optimizer.step()\n",
    "      scheduler.step()\n",
    "\n",
    "      epoch_loss += loss_size.data\n",
    "      total += batch_size\n",
    "      print(loss_size.data / batch_size)\n",
    "\n",
    "    train_losses.append(epoch_loss / total)\n",
    "\n",
    "    if debug:\n",
    "      print(\"Epoch: {}\".format(epoch))\n",
    "      print(\"Train Loss: {}\".format(train_losses[-1]))\n",
    "\n",
    "def run(net, epochs=20, learning_rate=1e-2, optimizer=torch.optim.Adam,\n",
    "        scheduler=torch.optim.lr_scheduler.StepLR, debug=True, \n",
    "        loader=train_loader, loss=torch.nn.MSELoss):\n",
    "  net.train()\n",
    "  loss = loss()\n",
    "  optimizer = optimizer(net.parameters(), lr=learning_rate)\n",
    "  scheduler = scheduler(optimizer, step_size=20, gamma=0.9)\n",
    "\n",
    "  # Augmentations\n",
    "  augmentations = None\n",
    "\n",
    "  train_losses = []\n",
    "  train_accuracy = []\n",
    "\n",
    "  eval_losses = []\n",
    "  eval_accuracy = []\n",
    "  try:\n",
    "    _run(net, epochs, learning_rate, optimizer, scheduler, debug, loss, augmentations,\n",
    "         train_losses, train_accuracy, eval_losses, eval_accuracy, loader)\n",
    "  except KeyboardInterrupt:\n",
    "    pass\n",
    "  return train_losses, train_accuracy, eval_losses, eval_accuracy"
   ]
  },
  {
   "cell_type": "code",
   "execution_count": 40,
   "metadata": {},
   "outputs": [],
   "source": [
    "model = torch.load(\"ramdisk/pretrained_AE.pt\")"
   ]
  },
  {
   "cell_type": "code",
   "execution_count": 41,
   "metadata": {},
   "outputs": [],
   "source": [
    "autoencoder = model"
   ]
  },
  {
   "cell_type": "code",
   "execution_count": 43,
   "metadata": {
    "colab": {
     "base_uri": "https://localhost:8080/",
     "height": 1000
    },
    "colab_type": "code",
    "executionInfo": {
     "elapsed": 1284290,
     "status": "ok",
     "timestamp": 1576392315144,
     "user": {
      "displayName": "Tianyu Ding",
      "photoUrl": "https://lh3.googleusercontent.com/a-/AAuE7mD47bVCfkT2nyQgaEWF0GdFUh9fLSf0A1o_omqW-g=s64",
      "userId": "07505363887822712301"
     },
     "user_tz": 300
    },
    "id": "k2SYlBK9MoS4",
    "outputId": "d6be1a6a-629c-4fbd-aa3a-16c8dfac9809"
   },
   "outputs": [
    {
     "name": "stdout",
     "output_type": "stream",
     "text": [
      "tensor(20.1997, device='cuda:0')\n",
      "tensor(15.0077, device='cuda:0')\n",
      "tensor(13.3293, device='cuda:0')\n",
      "tensor(8.8785, device='cuda:0')\n",
      "tensor(6.0523, device='cuda:0')\n",
      "tensor(5.6214, device='cuda:0')\n",
      "tensor(5.6213, device='cuda:0')\n",
      "tensor(5.9302, device='cuda:0')\n",
      "tensor(5.9547, device='cuda:0')\n",
      "tensor(6.2814, device='cuda:0')\n",
      "tensor(6.1871, device='cuda:0')\n",
      "tensor(5.6852, device='cuda:0')\n",
      "tensor(5.5190, device='cuda:0')\n",
      "tensor(5.1046, device='cuda:0')\n",
      "tensor(5.3050, device='cuda:0')\n",
      "tensor(4.9053, device='cuda:0')\n",
      "tensor(4.7712, device='cuda:0')\n",
      "tensor(4.8646, device='cuda:0')\n",
      "tensor(5.2086, device='cuda:0')\n",
      "tensor(5.0503, device='cuda:0')\n",
      "tensor(4.7561, device='cuda:0')\n",
      "tensor(4.8169, device='cuda:0')\n",
      "tensor(5.2122, device='cuda:0')\n",
      "tensor(5.0082, device='cuda:0')\n",
      "tensor(4.9937, device='cuda:0')\n",
      "tensor(4.9990, device='cuda:0')\n",
      "tensor(5.0896, device='cuda:0')\n",
      "tensor(4.9954, device='cuda:0')\n",
      "tensor(4.7549, device='cuda:0')\n",
      "tensor(4.8224, device='cuda:0')\n",
      "tensor(4.7901, device='cuda:0')\n",
      "tensor(4.6737, device='cuda:0')\n",
      "tensor(4.9177, device='cuda:0')\n",
      "tensor(4.8754, device='cuda:0')\n",
      "tensor(4.7959, device='cuda:0')\n",
      "tensor(4.9672, device='cuda:0')\n",
      "tensor(5.1749, device='cuda:0')\n",
      "tensor(4.6104, device='cuda:0')\n",
      "tensor(4.6784, device='cuda:0')\n",
      "tensor(4.5601, device='cuda:0')\n",
      "tensor(4.7588, device='cuda:0')\n",
      "tensor(4.4968, device='cuda:0')\n",
      "tensor(4.6430, device='cuda:0')\n",
      "tensor(4.8940, device='cuda:0')\n",
      "tensor(4.9426, device='cuda:0')\n",
      "tensor(5.1962, device='cuda:0')\n",
      "tensor(4.8842, device='cuda:0')\n",
      "tensor(4.5930, device='cuda:0')\n",
      "tensor(4.6798, device='cuda:0')\n",
      "tensor(5.0968, device='cuda:0')\n",
      "tensor(4.9715, device='cuda:0')\n",
      "tensor(4.8278, device='cuda:0')\n",
      "tensor(4.5994, device='cuda:0')\n",
      "tensor(4.8121, device='cuda:0')\n",
      "tensor(4.9707, device='cuda:0')\n",
      "tensor(4.7966, device='cuda:0')\n",
      "tensor(4.8438, device='cuda:0')\n",
      "tensor(4.8121, device='cuda:0')\n",
      "tensor(4.7816, device='cuda:0')\n",
      "tensor(4.6825, device='cuda:0')\n",
      "tensor(4.8155, device='cuda:0')\n",
      "tensor(4.8892, device='cuda:0')\n",
      "tensor(4.8239, device='cuda:0')\n",
      "tensor(4.9744, device='cuda:0')\n",
      "tensor(4.7510, device='cuda:0')\n",
      "tensor(4.9967, device='cuda:0')\n",
      "tensor(4.6950, device='cuda:0')\n",
      "tensor(4.8131, device='cuda:0')\n",
      "tensor(4.8702, device='cuda:0')\n",
      "tensor(4.7611, device='cuda:0')\n",
      "tensor(4.5433, device='cuda:0')\n",
      "tensor(4.6163, device='cuda:0')\n",
      "tensor(4.6569, device='cuda:0')\n",
      "tensor(4.7086, device='cuda:0')\n",
      "tensor(4.8791, device='cuda:0')\n",
      "tensor(4.5925, device='cuda:0')\n",
      "tensor(4.6836, device='cuda:0')\n",
      "tensor(4.4849, device='cuda:0')\n",
      "tensor(4.5217, device='cuda:0')\n",
      "tensor(4.5349, device='cuda:0')\n",
      "tensor(4.8238, device='cuda:0')\n",
      "tensor(4.5599, device='cuda:0')\n",
      "tensor(4.8498, device='cuda:0')\n",
      "tensor(4.8727, device='cuda:0')\n",
      "tensor(4.6296, device='cuda:0')\n",
      "tensor(4.6682, device='cuda:0')\n",
      "tensor(4.6087, device='cuda:0')\n",
      "tensor(4.6946, device='cuda:0')\n",
      "tensor(4.5228, device='cuda:0')\n",
      "tensor(4.5655, device='cuda:0')\n",
      "tensor(4.4599, device='cuda:0')\n",
      "tensor(4.8531, device='cuda:0')\n",
      "tensor(4.3782, device='cuda:0')\n",
      "tensor(4.4365, device='cuda:0')\n",
      "tensor(4.4024, device='cuda:0')\n",
      "tensor(4.5943, device='cuda:0')\n",
      "tensor(4.4628, device='cuda:0')\n",
      "tensor(3.8435, device='cuda:0')\n",
      "Epoch: 0\n",
      "Train Loss: 5.266234397888184\n",
      "tensor(4.8731, device='cuda:0')\n",
      "tensor(4.3853, device='cuda:0')\n",
      "tensor(5.0095, device='cuda:0')\n",
      "tensor(4.6567, device='cuda:0')\n",
      "tensor(4.8525, device='cuda:0')\n",
      "tensor(4.6287, device='cuda:0')\n",
      "tensor(4.9510, device='cuda:0')\n",
      "tensor(4.5036, device='cuda:0')\n",
      "tensor(4.5907, device='cuda:0')\n",
      "tensor(4.4349, device='cuda:0')\n",
      "tensor(4.7621, device='cuda:0')\n",
      "tensor(4.7517, device='cuda:0')\n",
      "tensor(4.4573, device='cuda:0')\n",
      "tensor(4.8071, device='cuda:0')\n",
      "tensor(4.9110, device='cuda:0')\n",
      "tensor(4.5335, device='cuda:0')\n",
      "tensor(4.3306, device='cuda:0')\n",
      "tensor(4.8163, device='cuda:0')\n",
      "tensor(4.3215, device='cuda:0')\n",
      "tensor(4.6432, device='cuda:0')\n",
      "tensor(4.4950, device='cuda:0')\n",
      "tensor(4.2403, device='cuda:0')\n",
      "tensor(4.7931, device='cuda:0')\n",
      "tensor(4.5417, device='cuda:0')\n",
      "tensor(4.6919, device='cuda:0')\n",
      "tensor(4.5320, device='cuda:0')\n",
      "tensor(4.7148, device='cuda:0')\n",
      "tensor(4.6288, device='cuda:0')\n",
      "tensor(4.5423, device='cuda:0')\n",
      "tensor(4.5054, device='cuda:0')\n",
      "tensor(4.5810, device='cuda:0')\n"
     ]
    },
    {
     "data": {
      "image/png": "[encoded data removed]",
      "text/plain": [
       "<Figure size 432x288 with 1 Axes>"
      ]
     },
     "metadata": {
      "needs_background": "light"
     },
     "output_type": "display_data"
    }
   ],
   "source": [
    "torch.cuda.empty_cache()\n",
    "autoencoder = AutoEncoder2()\n",
    "train_losses, train_accuracy, eval_losses, eval_accuracy = run(autoencoder.cuda(), loader=train_loader)\n",
    "plt.plot(train_losses)\n",
    "plt.show()"
   ]
  },
  {
   "cell_type": "code",
   "execution_count": 10,
   "metadata": {
    "colab": {},
    "colab_type": "code",
    "id": "1UJ5F5ohaJkR"
   },
   "outputs": [],
   "source": [
    "model_save_name = 'pretrained_tuned_AE.pt'\n",
    "path = F\"{model_save_name}\" \n",
    "torch.save(autoencoder.state_dict(), path)"
   ]
  },
  {
   "cell_type": "code",
   "execution_count": 52,
   "metadata": {
    "cellView": "both",
    "colab": {
     "base_uri": "https://localhost:8080/",
     "height": 1000
    },
    "colab_type": "code",
    "executionInfo": {
     "elapsed": 3045,
     "status": "ok",
     "timestamp": 1576448758349,
     "user": {
      "displayName": "Tianyu Ding",
      "photoUrl": "https://lh3.googleusercontent.com/a-/AAuE7mD47bVCfkT2nyQgaEWF0GdFUh9fLSf0A1o_omqW-g=s64",
      "userId": "07505363887822712301"
     },
     "user_tz": 300
    },
    "id": "6WXp1ETH_hLM",
    "outputId": "ff63f155-b83b-43cf-c2a6-d06566c726c5"
   },
   "outputs": [
    {
     "data": {
      "image/png": "[encoded data removed]",
      "text/plain": [
       "<Figure size 432x288 with 1 Axes>"
      ]
     },
     "metadata": {
      "needs_background": "light"
     },
     "output_type": "display_data"
    },
    {
     "data": {
      "image/png": "[encoded data removed]",
      "text/plain": [
       "<Figure size 432x288 with 1 Axes>"
      ]
     },
     "metadata": {
      "needs_background": "light"
     },
     "output_type": "display_data"
    },
    {
     "data": {
      "image/png": "[encoded data removed]",
      "text/plain": [
       "<Figure size 432x288 with 1 Axes>"
      ]
     },
     "metadata": {
      "needs_background": "light"
     },
     "output_type": "display_data"
    },
    {
     "data": {
      "image/png": "[encoded data removed]",
      "text/plain": [
       "<Figure size 432x288 with 1 Axes>"
      ]
     },
     "metadata": {
      "needs_background": "light"
     },
     "output_type": "display_data"
    },
    {
     "name": "stdout",
     "output_type": "stream",
     "text": [
      "tensor(4.7729, device='cuda:0', grad_fn=<DivBackward0>)\n"
     ]
    }
   ],
   "source": [
    "for data in test_loader:\n",
    "  autoencoder.eval()\n",
    "\n",
    "  inputs, _ = data\n",
    "  inputs *= 255.0\n",
    "  inputs = torch.autograd.Variable(inputs, requires_grad=False).cuda()\n",
    "  labels = inputs\n",
    "\n",
    "  x = torch.autograd.Variable(inputs).cuda()\n",
    "  outputs = autoencoder(x)\n",
    "  ind = np.random.randint(0, 128, size=2)\n",
    "  plt.imshow(inputs[ind[0],:,:,:].cpu().squeeze(), cmap='gray')\n",
    "  plt.show()\n",
    "  plt.imshow(outputs[ind[0],:,:,:].cpu().detach().squeeze().numpy(), cmap='gray')\n",
    "  plt.show()\n",
    "  plt.imshow(inputs[ind[1],:,:,:].cpu().squeeze(), cmap='gray')\n",
    "  plt.show()\n",
    "  plt.imshow(outputs[ind[1],:,:,:].cpu().detach().squeeze().numpy(), cmap='gray')\n",
    "  plt.show()\n",
    "\n",
    "  loss = torch.nn.MSELoss()\n",
    "  print(loss(outputs, labels) / batch_size)\n",
    "  break"
   ]
  },
  {
   "cell_type": "code",
   "execution_count": 2,
   "metadata": {
    "scrolled": false
   },
   "outputs": [],
   "source": [
    "import csv\n",
    "import numpy as np\n",
    "x = []\n",
    "with open('ramdisk/embedded_data_training.csv') as csvfile:\n",
    "  reader = csv.reader(csvfile, delimiter = ' ')\n",
    "  for row in reader:\n",
    "    x.append([float(n) for n in row])\n",
    "\n",
    "training = np.asarray(x)"
   ]
  },
  {
   "cell_type": "code",
   "execution_count": 3,
   "metadata": {},
   "outputs": [
    {
     "data": {
      "text/plain": [
       "50876416"
      ]
     },
     "execution_count": 3,
     "metadata": {},
     "output_type": "execute_result"
    }
   ],
   "source": []
  },
  {
   "cell_type": "code",
   "execution_count": 4,
   "metadata": {},
   "outputs": [],
   "source": [
    "import csv\n",
    "import numpy as np\n",
    "x = []\n",
    "with open('ramdisk/embedded_data.csv') as csvfile:\n",
    "  reader = csv.reader(csvfile, delimiter = ' ')\n",
    "  for row in reader:\n",
    "    x.append([float(n) for n in row])\n",
    "\n",
    "test = np.asarray(x)"
   ]
  },
  {
   "cell_type": "code",
   "execution_count": null,
   "metadata": {},
   "outputs": [],
   "source": [
    "import pandas as pd\n",
    "\n",
    "pd.load"
   ]
  },
  {
   "cell_type": "code",
   "execution_count": 53,
   "metadata": {
    "colab": {},
    "colab_type": "code",
    "id": "bTDKfwrTZV6n"
   },
   "outputs": [
    {
     "name": "stdout",
     "output_type": "stream",
     "text": [
      "0\n",
      "1\n",
      "2\n",
      "3\n",
      "4\n",
      "5\n",
      "6\n",
      "7\n",
      "8\n",
      "9\n",
      "10\n",
      "11\n",
      "12\n",
      "13\n",
      "14\n",
      "15\n",
      "16\n",
      "17\n",
      "18\n",
      "19\n",
      "20\n",
      "21\n",
      "22\n",
      "23\n",
      "24\n",
      "25\n",
      "26\n",
      "27\n",
      "28\n",
      "29\n",
      "30\n",
      "31\n",
      "32\n",
      "33\n",
      "34\n",
      "35\n",
      "36\n",
      "37\n",
      "38\n",
      "39\n",
      "40\n",
      "41\n",
      "42\n",
      "43\n",
      "44\n",
      "45\n",
      "46\n",
      "47\n",
      "48\n",
      "49\n",
      "50\n",
      "51\n",
      "52\n",
      "53\n",
      "54\n",
      "55\n",
      "56\n",
      "57\n",
      "58\n",
      "59\n",
      "60\n",
      "61\n",
      "62\n",
      "63\n",
      "64\n",
      "65\n",
      "66\n",
      "67\n",
      "68\n",
      "69\n",
      "70\n",
      "71\n",
      "72\n",
      "73\n",
      "74\n",
      "75\n",
      "76\n",
      "77\n",
      "78\n",
      "79\n",
      "80\n",
      "81\n",
      "82\n",
      "83\n",
      "84\n",
      "85\n",
      "86\n",
      "87\n",
      "88\n",
      "89\n",
      "90\n",
      "91\n",
      "92\n",
      "93\n",
      "94\n",
      "95\n",
      "96\n",
      "97\n"
     ]
    }
   ],
   "source": [
    "# Save the embedded data and their ids in separate files\n",
    "train_loader = torch.utils.data.DataLoader(train_set, shuffle=False, batch_size=batch_size)\n",
    "\n",
    "f = open(F'ramdisk/embedded_data_training.csv','ab')\n",
    "ids = ()\n",
    "for i, data in enumerate(train_loader, 0):\n",
    "  print(i)\n",
    "  autoencoder.eval()\n",
    "  inputs, names = data\n",
    "  inputs *= 255.0\n",
    "  inputs = torch.autograd.Variable(inputs, requires_grad=False).cuda()\n",
    "\n",
    "  x = torch.autograd.Variable(inputs).cuda()\n",
    "  embedded = autoencoder.encode(x)\n",
    "  embedded = embedded.detach().cpu().numpy()\n",
    "  np.savetxt(f, embedded)\n",
    "\n",
    "  ids += names\n",
    "\n",
    "f.close()\n",
    "\n",
    "g = open(F'ramdisk/ID_training.txt','a')\n",
    "for i in ids:\n",
    "    g.write(i+'\\n')\n",
    "g.close()"
   ]
  }
 ],
 "metadata": {
  "accelerator": "GPU",
  "colab": {
   "collapsed_sections": [],
   "name": "AE",
   "provenance": [
    {
     "file_id": "1oVg6HpfqZ-R5TWCQ_5myEPxpEnHbxc-z",
     "timestamp": 1576161641034
    },
    {
     "file_id": "1tNdCi4AmugLAKO0EdSLDFD0tcjOG-_9z",
     "timestamp": 1575756555687
    },
    {
     "file_id": "1KTm2pbwhnk0LYGp9q1lYfnRiraR8JYkJ",
     "timestamp": 1575754913879
    }
   ]
  },
  "kernelspec": {
   "display_name": "Python 3",
   "language": "python",
   "name": "python3"
  },
  "language_info": {
   "codemirror_mode": {
    "name": "ipython",
    "version": 3
   },
   "file_extension": ".py",
   "mimetype": "text/x-python",
   "name": "python",
   "nbconvert_exporter": "python",
   "pygments_lexer": "ipython3",
   "version": "3.7.5"
  }
 },
 "nbformat": 4,
 "nbformat_minor": 1
}
