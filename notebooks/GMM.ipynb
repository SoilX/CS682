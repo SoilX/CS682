{
 "cells": [
  {
   "cell_type": "code",
   "execution_count": 16,
   "metadata": {},
   "outputs": [],
   "source": [
    "import itertools\n",
    "import numpy as np\n",
    "from scipy import linalg\n",
    "import matplotlib.pyplot as plt\n",
    "import matplotlib as mpl\n",
    "from sklearn import mixture\n",
    "import pandas as pd\n",
    "import json\n",
    "from math import sin, cos\n",
    "import matplotlib.pylab as plt\n",
    "import os\n",
    "import cv2\n",
    "from collections import namedtuple"
   ]
  },
  {
   "cell_type": "code",
   "execution_count": 17,
   "metadata": {},
   "outputs": [
    {
     "data": {
      "text/plain": [
       "Text(0.5, 1.0, 'Ground Truth Label')"
      ]
     },
     "execution_count": 17,
     "metadata": {},
     "output_type": "execute_result"
    },
    {
     "data": {
      "image/png": "[encoded data removed]",
      "text/plain": [
       "<Figure size 432x288 with 1 Axes>"
      ]
     },
     "metadata": {
      "needs_background": "light"
     },
     "output_type": "display_data"
    }
   ],
   "source": [
    "#load the generated mask\n",
    "# load the image\n",
    "image_path = 'Resized_Img_Mask/15/mask.png'\n",
    "img_mask = cv2.imread(image_path)\n",
    "img_mask = img_mask[:,:,0]\n",
    "#print(img_mask.shape)\n",
    "plt.imshow(img_mask)\n",
    "plt.title('Ground Truth Label')\n",
    "#print(img_mask.max(),img_mask.min())"
   ]
  },
  {
   "cell_type": "code",
   "execution_count": 26,
   "metadata": {},
   "outputs": [],
   "source": [
    "color_iter = itertools.cycle(['navy', 'c', 'cornflowerblue', 'gold',\n",
    "                              'darkorange','black','yellow','blue'])\n",
    "def plot_results(X, Y_, means, covariances, index, title):\n",
    "    #plt.figure(figsize=(20, 20))\n",
    "    splot = plt.plot(2, 1, 1 + index)\n",
    "    for i, (mean, covar, color) in enumerate(zip(\n",
    "            means, covariances,color_iter)):\n",
    "        # as the DP will not use every component it has access to\n",
    "        # unless it needs it, we shouldn't plot the redundant\n",
    "        # components.\n",
    "        if not np.any(Y_ == i):\n",
    "            continue\n",
    "        plt.scatter(X[Y_ == i, 1], 256 - X[Y_ == i, 0], .8, color=color)\n",
    "\n",
    "    plt.plot(np.array([0,384]), np.array([0,256]),'o', markerfacecolor = 'white', markeredgecolor = 'white')\n",
    "\n",
    "    plt.title(title)"
   ]
  },
  {
   "cell_type": "code",
   "execution_count": 27,
   "metadata": {},
   "outputs": [
    {
     "data": {
      "text/plain": [
       "[<matplotlib.lines.Line2D at 0x7feda399cad0>]"
      ]
     },
     "execution_count": 27,
     "metadata": {},
     "output_type": "execute_result"
    },
    {
     "data": {
      "image/png": "[encoded data removed]",
      "text/plain": [
       "<Figure size 432x288 with 1 Axes>"
      ]
     },
     "metadata": {
      "needs_background": "light"
     },
     "output_type": "display_data"
    }
   ],
   "source": [
    "#Transfer the mask to the data for GMM\n",
    "m,n = img_mask.shape\n",
    "data = np.array([])\n",
    "#print(m,n)\n",
    "count = 0\n",
    "for i in range(m):\n",
    "    for j in range(n):\n",
    "        if len(data) == 0:\n",
    "            if img_mask[i,j] != 0:\n",
    "                data =  np.array([[i,j]])\n",
    "                \n",
    "        else:\n",
    "            if img_mask[i,j] != 0:\n",
    "                data = np.concatenate((data, np.array([[i,j]])), axis=0)\n",
    "                #print(data)\n",
    "                \n",
    "#print(data.shape)\n",
    "#visualize the data\n",
    "#plt.plot(data[:,1],256 - data[:,0],'.',markersize=2)\n",
    "#plt.plot(np.array([0,384]), np.array([0,256]),'o', markerfacecolor = 'white', markeredgecolor = 'white')"
   ]
  },
  {
   "cell_type": "code",
   "execution_count": 28,
   "metadata": {
    "scrolled": true
   },
   "outputs": [
    {
     "data": {
      "image/png": "[encoded data removed]",
      "text/plain": [
       "<Figure size 432x288 with 1 Axes>"
      ]
     },
     "metadata": {
      "needs_background": "light"
     },
     "output_type": "display_data"
    }
   ],
   "source": [
    "# Fit a Gaussian mixture with EM using five components\n",
    "gmm = mixture.GaussianMixture(n_components=8, covariance_type='full').fit(data)\n",
    "plot_results(data, gmm.predict(data), gmm.means_, gmm.covariances_, 0,\n",
    "             'Gaussian Mixture')"
   ]
  },
  {
   "cell_type": "code",
   "execution_count": 31,
   "metadata": {},
   "outputs": [],
   "source": [
    "def get_extremes(image):\n",
    "    top = np.unravel_index(image.argmax(), image.shape)\n",
    "    corner = np.unravel_index(np.flip(image).argmax(), image.shape)\n",
    "    bottom = tuple(s - c for c, s in zip(corner, image.shape))\n",
    "    return (max(top[0] - 1, 1), max(bottom[0] - 1, 1))\n",
    "\n",
    "\n",
    "def get_corners(image):\n",
    "    extremes_row = get_extremes(image)\n",
    "    extremes_col = get_extremes(np.rot90(image))\n",
    "    return [\n",
    "        extremes_row[0], extremes_row[1], -extremes_col[1], -extremes_col[0]\n",
    "    ]"
   ]
  },
  {
   "cell_type": "code",
   "execution_count": 37,
   "metadata": {},
   "outputs": [
    {
     "data": {
      "text/plain": [
       "(98304, 98304)"
      ]
     },
     "execution_count": 37,
     "metadata": {},
     "output_type": "execute_result"
    }
   ],
   "source": [
    "256* 384, 98304"
   ]
  },
  {
   "cell_type": "code",
   "execution_count": 67,
   "metadata": {
    "scrolled": true
   },
   "outputs": [
    {
     "name": "stdout",
     "output_type": "stream",
     "text": [
      "(256, 384, 3) (256, 384, 3) (98304, 2)\n",
      "(98304, 5)\n",
      "2\n",
      "3\n",
      "4\n",
      "5\n",
      "6\n",
      "7\n",
      "8\n",
      "9\n",
      "10\n",
      "11\n",
      "12\n"
     ]
    }
   ],
   "source": [
    "from sklearn.metrics import silhouette_score\n",
    "\n",
    "def attempt(data, k):\n",
    "    gmm = mixture.GaussianMixture(n_components=k, covariance_type='full').fit(data)\n",
    "    labels = gmm.predict(data)\n",
    "    return gmm.score(data), labels\n",
    "\n",
    "\n",
    "def find_cluster(image, mask, max_clusters=12):\n",
    "    scores = []\n",
    "    labels = []\n",
    "\n",
    "    x = np.linspace(0., 256, 256)\n",
    "    y = np.linspace(0., 384, 384)\n",
    "    # if we wanted to exclude the data they gave us \n",
    "    #      * np.reshape(m,(-1))\n",
    "    print(image.shape, mask.shape, np.array(np.meshgrid(x, y)).T.reshape(-1,2).shape)\n",
    "    stacked = np.hstack([np.reshape(image, (-1, 3)), np.array(np.meshgrid(x, y)).T.reshape(-1,2)])\n",
    "    print(stacked.shape)\n",
    "    data = stacked[np.reshape(mask[:,:,0] > 25, -1), :]\n",
    "\n",
    "    for i in range(2, max_clusters + 1):\n",
    "        print(i)\n",
    "        score, l = attempt(data, i)\n",
    "        labels.append(l)\n",
    "        scores.append(score)\n",
    "\n",
    "    k = np.argmax(scores)\n",
    "    return k, labels[k], scores, data\n",
    "    \n",
    "dirs = \"ramdisk/test_images/\"\n",
    "aa = os.listdir(dirs)\n",
    "\n",
    "#import\n",
    "\n",
    "for a in aa:\n",
    "    image = cv2.imread(\"ramdisk/test_images/\" + a)\n",
    "    mask = cv2.imread(\"ramdisk/processed/\" + a)\n",
    "    K, labels, scores, data = find_cluster(image, mask)\n",
    "\n",
    "    for k in range(K):\n",
    "        # [x, y] in the image\n",
    "        xy = data[labels == k, -2:]\n",
    "        break\n",
    "        corners = get_corners(mask)\n",
    "        cropped = image\n",
    "        if mask_only:\n",
    "            prefix = \"masked\"\n",
    "            cropped[~mask] = 0\n",
    "        cropped = cropped[corners[0]:corners[1], corners[2]:corners[3]]\n",
    "    break\n",
    "    plt.imshow(cv2.flip(image, 1)[max(pts[1] - h, 0):pts[1] + h, max(pts[0] - w, 0):pts[0] + w])\n",
    "    break\n",
    "    cv2.imwrite(\"ramdisk/gmm/\" + str(i) + a, cv2.flip(image, 1)[max(pts[1] - h, 0):pts[1] + h, max(pts[0] - w, 0):pts[0] + w])\n"
   ]
  },
  {
   "cell_type": "code",
   "execution_count": 68,
   "metadata": {},
   "outputs": [
    {
     "data": {
      "text/plain": [
       "([<matplotlib.lines.Line2D at 0x7feda389c650>], 9)"
      ]
     },
     "execution_count": 68,
     "metadata": {},
     "output_type": "execute_result"
    },
    {
     "data": {
      "image/png": "[encoded data removed]",
      "text/plain": [
       "<Figure size 432x288 with 1 Axes>"
      ]
     },
     "metadata": {
      "needs_background": "light"
     },
     "output_type": "display_data"
    }
   ],
   "source": [
    "plt.plot(scores),K"
   ]
  },
  {
   "cell_type": "code",
   "execution_count": 69,
   "metadata": {},
   "outputs": [
    {
     "data": {
      "image/png": "[encoded data removed]",
      "text/plain": [
       "<Figure size 432x288 with 1 Axes>"
      ]
     },
     "metadata": {
      "needs_background": "light"
     },
     "output_type": "display_data"
    },
    {
     "data": {
      "text/plain": [
       "<matplotlib.image.AxesImage at 0x7feda32c0fd0>"
      ]
     },
     "execution_count": 69,
     "metadata": {},
     "output_type": "execute_result"
    },
    {
     "data": {
      "image/png": "[encoded data removed]",
      "text/plain": [
       "<Figure size 432x288 with 1 Axes>"
      ]
     },
     "metadata": {
      "needs_background": "light"
     },
     "output_type": "display_data"
    }
   ],
   "source": [
    "reconstruction = data[:, -2:].T\n",
    "plt.scatter(reconstruction[1], reconstruction[0], c=labels)\n",
    "plt.show()\n",
    "plt.imshow(255*np.ones_like(mask) * (mask > 25))"
   ]
  }
 ],
 "metadata": {
  "kernelspec": {
   "display_name": "Python 3",
   "language": "python",
   "name": "python3"
  },
  "language_info": {
   "codemirror_mode": {
    "name": "ipython",
    "version": 3
   },
   "file_extension": ".py",
   "mimetype": "text/x-python",
   "name": "python",
   "nbconvert_exporter": "python",
   "pygments_lexer": "ipython3",
   "version": "3.7.5"
  }
 },
 "nbformat": 4,
 "nbformat_minor": 2
}
